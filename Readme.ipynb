{
 "cells": [
  {
   "cell_type": "markdown",
   "metadata": {},
   "source": [
    "# gmail_sender\n",
    "\n",
    "Simple Email sender with Gmail."
   ]
  },
  {
   "cell_type": "markdown",
   "metadata": {},
   "source": [
    "## Requirements\n",
    "\n",
    "- [emoji](https://pypi.org/project/emoji/)"
   ]
  },
  {
   "cell_type": "markdown",
   "metadata": {},
   "source": [
    "## How to Use\n",
    "\n",
    "Really simple. Just set several terms and send, thats all."
   ]
  },
  {
   "cell_type": "code",
   "execution_count": 2,
   "metadata": {},
   "outputs": [
    {
     "name": "stdout",
     "output_type": "stream",
     "text": [
      "✉ Sent Email. ✉\n"
     ]
    }
   ],
   "source": [
    "from gmail_sender import GmailSender\n",
    "\n",
    "from_address = \"sender@gmail.com\" # please rewirte as you like.\n",
    "password = \"password\"\n",
    "to_address = \"someone@gmail.com\" # please rewrite as you like\n",
    "subject = \"Here is subject\"\n",
    "body = \"Here is body\"\n",
    "\n",
    "sender = GmailSender(from_address, password)\n",
    "sender.send(to_address, subject, body, attach_lst=[])"
   ]
  },
  {
   "cell_type": "markdown",
   "metadata": {},
   "source": [
    "You can send Email multiple time without login."
   ]
  },
  {
   "cell_type": "code",
   "execution_count": 4,
   "metadata": {},
   "outputs": [
    {
     "name": "stdout",
     "output_type": "stream",
     "text": [
      "✉ Sent Email. ✉\n",
      "✉ Sent Email. ✉\n",
      "✉ Sent Email. ✉\n",
      "✉ Sent Email. ✉\n",
      "✉ Sent Email. ✉\n"
     ]
    }
   ],
   "source": [
    "for i in range(5):\n",
    "    subject = f\"No.{i} Email.\"\n",
    "    body = (\"Hello_\" * i).strip(\"_\")\n",
    "    sender.send(to_address, subject, body, attach_lst=[])"
   ]
  },
  {
   "cell_type": "markdown",
   "metadata": {},
   "source": [
    "If you want to attach some files, you can do by settings `attach_lst` as follows,\n",
    "(currently only supported `jpeg`, `jpg` and `png` extension)"
   ]
  },
  {
   "cell_type": "code",
   "execution_count": 3,
   "metadata": {},
   "outputs": [
    {
     "name": "stdout",
     "output_type": "stream",
     "text": [
      "✉ Sent Email. ✉\n"
     ]
    }
   ],
   "source": [
    "subject = \"Here is subject\"\n",
    "body = \"Please confirm an attached file.\"\n",
    "sender.send(to_address, subject, body, attach_lst=[\"path/to/image.jpg\", \"/path/to/image2.jpg\"])"
   ]
  },
  {
   "cell_type": "code",
   "execution_count": null,
   "metadata": {},
   "outputs": [],
   "source": []
  }
 ],
 "metadata": {
  "kernelspec": {
   "display_name": "Python 3",
   "language": "python",
   "name": "python3"
  },
  "language_info": {
   "codemirror_mode": {
    "name": "ipython",
    "version": 3
   },
   "file_extension": ".py",
   "mimetype": "text/x-python",
   "name": "python",
   "nbconvert_exporter": "python",
   "pygments_lexer": "ipython3",
   "version": "3.7.4"
  }
 },
 "nbformat": 4,
 "nbformat_minor": 2
}
